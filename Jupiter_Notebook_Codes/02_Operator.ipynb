{
 "cells": [
  {
   "cell_type": "code",
   "execution_count": 2,
   "id": "ab5ca690",
   "metadata": {},
   "outputs": [
    {
     "data": {
      "text/plain": [
       "5"
      ]
     },
     "execution_count": 2,
     "metadata": {},
     "output_type": "execute_result"
    }
   ],
   "source": [
    "a = 2 + 3\n",
    "a"
   ]
  },
  {
   "cell_type": "markdown",
   "id": "b4b932a0",
   "metadata": {},
   "source": [
    "## Python as a language"
   ]
  },
  {
   "cell_type": "code",
   "execution_count": 5,
   "id": "05b2fc9c",
   "metadata": {
    "scrolled": false
   },
   "outputs": [
    {
     "name": "stdout",
     "output_type": "stream",
     "text": [
      "Python is a compelling lang.\n"
     ]
    }
   ],
   "source": [
    "print(\"Python is a compelling lang.\" )"
   ]
  },
  {
   "cell_type": "markdown",
   "id": "06d84860",
   "metadata": {},
   "source": [
    "**02_Operators**"
   ]
  },
  {
   "cell_type": "code",
   "execution_count": 7,
   "id": "c8565c67",
   "metadata": {},
   "outputs": [
    {
     "name": "stdout",
     "output_type": "stream",
     "text": [
      "8\n",
      "16\n",
      "1\n",
      "6\n",
      "3\n",
      "3.0\n",
      "14\n",
      "0\n"
     ]
    }
   ],
   "source": [
    "print(2+6)\n",
    "print(2**4)\n",
    "print(9%2)\n",
    "print(7-1)\n",
    "print(6//2) #integer division\n",
    "print(6/2) #floating points result\n",
    "print(2**3-5//2+1*8) #This expression will be executed as PEMDAS.\n",
    "#Perenthesis Exponent Multiplication Division Addition Subtraction(PEMDAS)\n",
    "#The execution will be Left to Right in sequence if M D & A S\n",
    "print(3//10)"
   ]
  },
  {
   "cell_type": "code",
   "execution_count": null,
   "id": "7fb2e128",
   "metadata": {},
   "outputs": [],
   "source": []
  }
 ],
 "metadata": {
  "kernelspec": {
   "display_name": "Python 3 (ipykernel)",
   "language": "python",
   "name": "python3"
  },
  "language_info": {
   "codemirror_mode": {
    "name": "ipython",
    "version": 3
   },
   "file_extension": ".py",
   "mimetype": "text/x-python",
   "name": "python",
   "nbconvert_exporter": "python",
   "pygments_lexer": "ipython3",
   "version": "3.11.4"
  }
 },
 "nbformat": 4,
 "nbformat_minor": 5
}
