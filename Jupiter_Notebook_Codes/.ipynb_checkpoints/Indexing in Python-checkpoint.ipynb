{
 "cells": [
  {
   "cell_type": "code",
   "execution_count": 1,
   "id": "4cba7c61",
   "metadata": {},
   "outputs": [
    {
     "data": {
      "text/plain": [
       "'A good boy!'"
      ]
     },
     "execution_count": 1,
     "metadata": {},
     "output_type": "execute_result"
    }
   ],
   "source": [
    "#let's say we have a string as follows: \n",
    "waqar = 'A good boy!'\n",
    "waqar"
   ]
  },
  {
   "cell_type": "code",
   "execution_count": 2,
   "id": "77a42f93",
   "metadata": {},
   "outputs": [
    {
     "data": {
      "text/plain": [
       "'A'"
      ]
     },
     "execution_count": 2,
     "metadata": {},
     "output_type": "execute_result"
    }
   ],
   "source": [
    "waqar[0]\n"
   ]
  },
  {
   "cell_type": "code",
   "execution_count": 3,
   "id": "3e2d3acb",
   "metadata": {},
   "outputs": [
    {
     "data": {
      "text/plain": [
       "11"
      ]
     },
     "execution_count": 3,
     "metadata": {},
     "output_type": "execute_result"
    }
   ],
   "source": [
    "len(waqar)"
   ]
  },
  {
   "cell_type": "code",
   "execution_count": 4,
   "id": "77b1c461",
   "metadata": {},
   "outputs": [
    {
     "data": {
      "text/plain": [
       "'A good boy!'"
      ]
     },
     "execution_count": 4,
     "metadata": {},
     "output_type": "execute_result"
    }
   ],
   "source": [
    "waqar[0:11] # the last element is exclusive"
   ]
  },
  {
   "cell_type": "code",
   "execution_count": 5,
   "id": "8fcd9e88",
   "metadata": {},
   "outputs": [
    {
     "data": {
      "text/plain": [
       "'A good boy!'"
      ]
     },
     "execution_count": 5,
     "metadata": {},
     "output_type": "execute_result"
    }
   ],
   "source": [
    "waqar[0:12]"
   ]
  },
  {
   "cell_type": "code",
   "execution_count": 25,
   "id": "21f7c0e6",
   "metadata": {
    "scrolled": true
   },
   "outputs": [
    {
     "data": {
      "text/plain": [
       "'A good boy'"
      ]
     },
     "execution_count": 25,
     "metadata": {},
     "output_type": "execute_result"
    }
   ],
   "source": [
    "waqar[0:10]"
   ]
  },
  {
   "cell_type": "code",
   "execution_count": 8,
   "id": "6f4c32fb",
   "metadata": {},
   "outputs": [
    {
     "data": {
      "text/plain": [
       "'A good boy!'"
      ]
     },
     "execution_count": 8,
     "metadata": {},
     "output_type": "execute_result"
    }
   ],
   "source": [
    "waqar[0:20]"
   ]
  },
  {
   "cell_type": "code",
   "execution_count": 14,
   "id": "69238adc",
   "metadata": {},
   "outputs": [
    {
     "data": {
      "text/plain": [
       "'A good boy'"
      ]
     },
     "execution_count": 14,
     "metadata": {},
     "output_type": "execute_result"
    }
   ],
   "source": [
    "waqar[-11:-1] #the first index is percieved as the first point. "
   ]
  },
  {
   "cell_type": "code",
   "execution_count": 15,
   "id": "8943f7b0",
   "metadata": {},
   "outputs": [
    {
     "data": {
      "text/plain": [
       "'A good boy!'"
      ]
     },
     "execution_count": 15,
     "metadata": {},
     "output_type": "execute_result"
    }
   ],
   "source": [
    "waqar.capitalize()"
   ]
  },
  {
   "cell_type": "code",
   "execution_count": 19,
   "id": "01baf68b",
   "metadata": {},
   "outputs": [
    {
     "data": {
      "text/plain": [
       "'A GOOD BOY!'"
      ]
     },
     "execution_count": 19,
     "metadata": {},
     "output_type": "execute_result"
    }
   ],
   "source": [
    "waqar.upper()"
   ]
  },
  {
   "cell_type": "code",
   "execution_count": 20,
   "id": "b7d16c0e",
   "metadata": {},
   "outputs": [
    {
     "data": {
      "text/plain": [
       "'a good boy!'"
      ]
     },
     "execution_count": 20,
     "metadata": {},
     "output_type": "execute_result"
    }
   ],
   "source": [
    "waqar.lower()"
   ]
  },
  {
   "cell_type": "code",
   "execution_count": 24,
   "id": "e9e656d7",
   "metadata": {},
   "outputs": [
    {
     "data": {
      "text/plain": [
       "'was a good boy!'"
      ]
     },
     "execution_count": 24,
     "metadata": {},
     "output_type": "execute_result"
    }
   ],
   "source": [
    "waqar.replace(\"A\", \"was a\")"
   ]
  },
  {
   "cell_type": "code",
   "execution_count": null,
   "id": "61fb2697",
   "metadata": {},
   "outputs": [],
   "source": []
  }
 ],
 "metadata": {
  "kernelspec": {
   "display_name": "Python 3 (ipykernel)",
   "language": "python",
   "name": "python3"
  },
  "language_info": {
   "codemirror_mode": {
    "name": "ipython",
    "version": 3
   },
   "file_extension": ".py",
   "mimetype": "text/x-python",
   "name": "python",
   "nbconvert_exporter": "python",
   "pygments_lexer": "ipython3",
   "version": "3.11.4"
  }
 },
 "nbformat": 4,
 "nbformat_minor": 5
}
