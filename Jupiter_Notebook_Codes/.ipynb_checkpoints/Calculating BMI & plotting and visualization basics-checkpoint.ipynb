{
 "cells": [
  {
   "cell_type": "markdown",
   "id": "a16a3da8",
   "metadata": {},
   "source": [
    "## Procedure for calculating Body mass index (BMI)\n",
    "1-using input fcn\n",
    "2-ask your height in one variable\n",
    "3-then weight\n",
    "4-calculate the BMI\n",
    "5-print it\n",
    "6-My name is ...., and my BMI is ...., "
   ]
  },
  {
   "cell_type": "code",
   "execution_count": 1,
   "id": "7d3724f1",
   "metadata": {},
   "outputs": [
    {
     "name": "stdout",
     "output_type": "stream",
     "text": [
      "weight is: 55\n"
     ]
    }
   ],
   "source": [
    "weight = input(\"weight is: \")"
   ]
  },
  {
   "cell_type": "code",
   "execution_count": 2,
   "id": "5da8829e",
   "metadata": {
    "scrolled": true
   },
   "outputs": [
    {
     "name": "stdout",
     "output_type": "stream",
     "text": [
      "height is: 1.67\n"
     ]
    }
   ],
   "source": [
    "height = input(\"height is: \")\n",
    "height = float(height)"
   ]
  },
  {
   "cell_type": "code",
   "execution_count": 3,
   "id": "67a0c617",
   "metadata": {
    "scrolled": true
   },
   "outputs": [
    {
     "name": "stdout",
     "output_type": "stream",
     "text": [
      "weight is: 56\n"
     ]
    }
   ],
   "source": [
    "weight = input(\"weight is: \")\n",
    "weight = float(weight)"
   ]
  },
  {
   "cell_type": "code",
   "execution_count": 4,
   "id": "905256a6",
   "metadata": {
    "scrolled": true
   },
   "outputs": [
    {
     "name": "stdout",
     "output_type": "stream",
     "text": [
      "My name is: Waqar\n"
     ]
    }
   ],
   "source": [
    "name = input(\"My name is: \")"
   ]
  },
  {
   "cell_type": "code",
   "execution_count": 5,
   "id": "c1e2074c",
   "metadata": {},
   "outputs": [
    {
     "name": "stdout",
     "output_type": "stream",
     "text": [
      "My name is Waqar and my BMI is, 20.07960127648894\n"
     ]
    }
   ],
   "source": [
    "BMI = weight/height**2\n",
    "BMI\n",
    "print(\"My name is\", name, \"and my BMI is,\", BMI)"
   ]
  },
  {
   "cell_type": "markdown",
   "id": "ddb9b23d",
   "metadata": {},
   "source": [
    "## Visualization and plot \n",
    "**using matplotlib and seaborn libraries for this**"
   ]
  },
  {
   "cell_type": "code",
   "execution_count": null,
   "id": "9220fc51",
   "metadata": {},
   "outputs": [],
   "source": [
    "import seaborn as sns\n",
    "import matplotlib as plt\n",
    "sns.set_theme(style = \"ticks\", color_codes = True)\n",
    "titanic = sns.load_dataset('titanic')\n",
    "sns.catplot(x = 'sex', y = 'survived', hue = 'class', kind = 'bar',data = titanic)\n",
    "plt.show()\n"
   ]
  },
  {
   "cell_type": "code",
   "execution_count": null,
   "id": "655cdb60",
   "metadata": {},
   "outputs": [],
   "source": []
  },
  {
   "cell_type": "code",
   "execution_count": null,
   "id": "bb25feb7",
   "metadata": {},
   "outputs": [],
   "source": []
  }
 ],
 "metadata": {
  "kernelspec": {
   "display_name": "Python 3 (ipykernel)",
   "language": "python",
   "name": "python3"
  },
  "language_info": {
   "codemirror_mode": {
    "name": "ipython",
    "version": 3
   },
   "file_extension": ".py",
   "mimetype": "text/x-python",
   "name": "python",
   "nbconvert_exporter": "python",
   "pygments_lexer": "ipython3",
   "version": "3.11.4"
  }
 },
 "nbformat": 4,
 "nbformat_minor": 5
}
