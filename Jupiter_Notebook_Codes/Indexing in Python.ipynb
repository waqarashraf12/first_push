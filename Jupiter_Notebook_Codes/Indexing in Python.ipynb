{
 "cells": [
  {
   "cell_type": "markdown",
   "id": "9559fe67",
   "metadata": {},
   "source": [
    "## Indexing in Python"
   ]
  },
  {
   "cell_type": "code",
   "execution_count": 1,
   "id": "01e104c4",
   "metadata": {},
   "outputs": [
    {
     "data": {
      "text/plain": [
       "'A good boy!'"
      ]
     },
     "execution_count": 1,
     "metadata": {},
     "output_type": "execute_result"
    }
   ],
   "source": [
    "#let's say we have a string as follows: \n",
    "waqar = 'A good boy!'\n",
    "waqar"
   ]
  },
  {
   "cell_type": "code",
   "execution_count": 2,
   "id": "cbea3d93",
   "metadata": {},
   "outputs": [
    {
     "data": {
      "text/plain": [
       "'A'"
      ]
     },
     "execution_count": 2,
     "metadata": {},
     "output_type": "execute_result"
    }
   ],
   "source": [
    "waqar[0]\n"
   ]
  },
  {
   "cell_type": "code",
   "execution_count": 3,
   "id": "8a5d62df",
   "metadata": {},
   "outputs": [
    {
     "data": {
      "text/plain": [
       "11"
      ]
     },
     "execution_count": 3,
     "metadata": {},
     "output_type": "execute_result"
    }
   ],
   "source": [
    "len(waqar)"
   ]
  },
  {
   "cell_type": "code",
   "execution_count": 4,
   "id": "222d7a25",
   "metadata": {},
   "outputs": [
    {
     "data": {
      "text/plain": [
       "'A good boy!'"
      ]
     },
     "execution_count": 4,
     "metadata": {},
     "output_type": "execute_result"
    }
   ],
   "source": [
    "waqar[0:11] # the last element is exclusive"
   ]
  },
  {
   "cell_type": "code",
   "execution_count": 5,
   "id": "fd1a4fe0",
   "metadata": {},
   "outputs": [
    {
     "data": {
      "text/plain": [
       "'A good boy!'"
      ]
     },
     "execution_count": 5,
     "metadata": {},
     "output_type": "execute_result"
    }
   ],
   "source": [
    "waqar[0:12]"
   ]
  },
  {
   "cell_type": "code",
   "execution_count": 25,
   "id": "51e2ac00",
   "metadata": {
    "scrolled": true
   },
   "outputs": [
    {
     "data": {
      "text/plain": [
       "'A good boy'"
      ]
     },
     "execution_count": 25,
     "metadata": {},
     "output_type": "execute_result"
    }
   ],
   "source": [
    "waqar[0:10]"
   ]
  },
  {
   "cell_type": "code",
   "execution_count": 8,
   "id": "fb31beaa",
   "metadata": {},
   "outputs": [
    {
     "data": {
      "text/plain": [
       "'A good boy!'"
      ]
     },
     "execution_count": 8,
     "metadata": {},
     "output_type": "execute_result"
    }
   ],
   "source": [
    "waqar[0:20]"
   ]
  },
  {
   "cell_type": "code",
   "execution_count": 14,
   "id": "fbf0f670",
   "metadata": {},
   "outputs": [
    {
     "data": {
      "text/plain": [
       "'A good boy'"
      ]
     },
     "execution_count": 14,
     "metadata": {},
     "output_type": "execute_result"
    }
   ],
   "source": [
    "waqar[-11:-1] #the first index is percieved as the first point. "
   ]
  },
  {
   "cell_type": "code",
   "execution_count": 15,
   "id": "e0211193",
   "metadata": {},
   "outputs": [
    {
     "data": {
      "text/plain": [
       "'A good boy!'"
      ]
     },
     "execution_count": 15,
     "metadata": {},
     "output_type": "execute_result"
    }
   ],
   "source": [
    "waqar.capitalize()"
   ]
  },
  {
   "cell_type": "code",
   "execution_count": 19,
   "id": "2488097a",
   "metadata": {},
   "outputs": [
    {
     "data": {
      "text/plain": [
       "'A GOOD BOY!'"
      ]
     },
     "execution_count": 19,
     "metadata": {},
     "output_type": "execute_result"
    }
   ],
   "source": [
    "waqar.upper()"
   ]
  },
  {
   "cell_type": "code",
   "execution_count": 20,
   "id": "dae8c726",
   "metadata": {},
   "outputs": [
    {
     "data": {
      "text/plain": [
       "'a good boy!'"
      ]
     },
     "execution_count": 20,
     "metadata": {},
     "output_type": "execute_result"
    }
   ],
   "source": [
    "waqar.lower()"
   ]
  },
  {
   "cell_type": "code",
   "execution_count": 24,
   "id": "6ee5d3db",
   "metadata": {},
   "outputs": [
    {
     "data": {
      "text/plain": [
       "'was a good boy!'"
      ]
     },
     "execution_count": 24,
     "metadata": {},
     "output_type": "execute_result"
    }
   ],
   "source": [
    "waqar.replace(\"A\", \"was a\")"
   ]
  },
  {
   "cell_type": "code",
   "execution_count": null,
   "id": "c4b4937e",
   "metadata": {},
   "outputs": [],
   "source": []
  }
 ],
 "metadata": {
  "kernelspec": {
   "display_name": "Python 3 (ipykernel)",
   "language": "python",
   "name": "python3"
  },
  "language_info": {
   "codemirror_mode": {
    "name": "ipython",
    "version": 3
   },
   "file_extension": ".py",
   "mimetype": "text/x-python",
   "name": "python",
   "nbconvert_exporter": "python",
   "pygments_lexer": "ipython3",
   "version": "3.11.4"
  }
 },
 "nbformat": 4,
 "nbformat_minor": 5
}
